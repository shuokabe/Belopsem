{
 "cells": [
  {
   "cell_type": "code",
   "execution_count": 1,
   "id": "9e8a40b8",
   "metadata": {},
   "outputs": [],
   "source": [
    "import sys\n",
    "\n",
    "sys.path.append('./Belopsem/code/') # TO ADAPT"
   ]
  },
  {
   "cell_type": "code",
   "execution_count": 2,
   "id": "b09d240b",
   "metadata": {},
   "outputs": [],
   "source": [
    "# Importing Belopsem\n",
    "import Belopsem.code.utils as utils\n",
    "import Belopsem.code.bucc_style_dataset as bsd\n"
   ]
  },
  {
   "cell_type": "code",
   "execution_count": 3,
   "id": "3a100eb9",
   "metadata": {},
   "outputs": [],
   "source": [
    "import random\n",
    "import unicodedata"
   ]
  },
  {
   "cell_type": "code",
   "execution_count": 4,
   "id": "573e6bea",
   "metadata": {},
   "outputs": [
    {
     "name": "stdout",
     "output_type": "stream",
     "text": [
      "/dss/dssmcmlfs01/pn39je/pn39je-dss-0001/go25puh\n"
     ]
    },
    {
     "name": "stderr",
     "output_type": "stream",
     "text": [
      "/usr/local/lib/python3.10/dist-packages/IPython/core/magics/osm.py:417: UserWarning: using dhist requires you to install the `pickleshare` library.\n",
      "  self.shell.db['dhist'] = compress_dhist(dhist)[-100:]\n"
     ]
    }
   ],
   "source": [
    "cd PATH_TO_WORKSPACE"
   ]
  },
  {
   "cell_type": "code",
   "execution_count": null,
   "id": "de3c0119",
   "metadata": {},
   "outputs": [],
   "source": []
  },
  {
   "cell_type": "code",
   "execution_count": 5,
   "id": "4ee4b806",
   "metadata": {},
   "outputs": [],
   "source": [
    "# Additional functions to pre-process the original data\n",
    "# TO MODIFY if needed\n",
    "def remove_head_id(split_dataset):\n",
    "    '''Remove original sentence ID in the news dataset (Leipzig corpus).'''\n",
    "    new_split_dataset = [sentence.split('\\t')[1] for sentence in split_dataset] \n",
    "    return new_split_dataset\n",
    "\n",
    "def basic_processing(data_file):\n",
    "    '''Applying Unicode normalisation and spliting sentences.'''\n",
    "    normalised_text = unicodedata.normalize('NFC', data_file)\n",
    "    split_text = utils.text_to_line(normalised_text)\n",
    "    print(len(split_text), len(set(split_text)))\n",
    "    return split_text\n",
    "\n",
    "def filter_sentence_3(split_dataset):\n",
    "    '''Filter out sentences with less than X or more than X words.'''\n",
    "    print(f'Before: {len(split_dataset)}')\n",
    "    filtered_dataset = [sentence.strip() for sentence in split_dataset \n",
    "                        if (len(sentence.split(' ')) < 40)] #(len(sentence.split(' ')) > 5 and \n",
    "    print(f'After: {len(filtered_dataset)}')\n",
    "    return filtered_dataset"
   ]
  },
  {
   "cell_type": "code",
   "execution_count": 6,
   "id": "f9be71a4",
   "metadata": {},
   "outputs": [],
   "source": [
    "random.seed(42)"
   ]
  },
  {
   "cell_type": "code",
   "execution_count": null,
   "id": "08f07946",
   "metadata": {},
   "outputs": [],
   "source": []
  },
  {
   "cell_type": "markdown",
   "id": "fbc3453d",
   "metadata": {},
   "source": [
    "## Create a dataset for the Occitan-Spanish pair"
   ]
  },
  {
   "cell_type": "code",
   "execution_count": 7,
   "id": "3106e30a",
   "metadata": {},
   "outputs": [],
   "source": [
    "# Import texts\n",
    "monolingual_oci = open('raw_data/raw_oci-es/oci_wikipedia_2021_30K-sentences.txt', 'r').read() # monolingual source\n",
    "monolingual_es = open('raw_data/raw_oci-es/spa_wikipedia_2021_30K-sentences.txt', 'r').read() # monolingual target\n",
    "parallel_oci = open('raw_data/raw_oci-es/wikimedia.es-oc.oc', 'r').read() # parallel source\n",
    "parallel_es = open('raw_data/raw_oci-es/wikimedia.es-oc.es', 'r').read() # parallel target\n"
   ]
  },
  {
   "cell_type": "code",
   "execution_count": 8,
   "id": "569254fd",
   "metadata": {},
   "outputs": [
    {
     "name": "stdout",
     "output_type": "stream",
     "text": [
      "30000 30000\n",
      "30000 30000\n",
      "1980 1941\n",
      "1980 1935\n"
     ]
    },
    {
     "data": {
      "text/plain": [
       "([\"1\\t²per sos trabalhs sus las reaccions d'\",\n",
       "  \"2\\t» (46 Estats membres, contra 27 per l'\",\n",
       "  '3\\tA 10 km al sud, se tr ba Cap de lu c de Costat : Rebais.',\n",
       "  \"4\\tA 1.326 m tres d'altitud, es la vila mai nauta de França.\",\n",
       "  '5\\tA 14 oras, lo desplegament de la polícia compren un elicoptèr e de desena de veïculs (polícia, pompièrs, secors).'],\n",
       " ['Obras ',\n",
       "  'Enlaces externos ',\n",
       "  'Josiana Ubaud, en francés, Josiane Ubaud (Marsella, Francia, 10 de mayo de 1947) es una lingüista especializada en lexicografía y gramaticografía y una botánica occitana. ',\n",
       "  'Es la autora de dos obras esenciales para el conocimiento del occitano moderno, el Diccionario ortográfico, gramatical y morfológico del occitano y el Diccionario científico francés-occitano.[1] ',\n",
       "  'Josiana Ubaud fue profesora de matemáticas durante ocho años antes de advocar a la lexicografía occitana después de regresar al país occitano en 1990. '])"
      ]
     },
     "execution_count": 8,
     "metadata": {},
     "output_type": "execute_result"
    }
   ],
   "source": [
    "# Preprocessing\n",
    "split_monolingual_oci = basic_processing(monolingual_oci)\n",
    "split_monolingual_es = basic_processing(monolingual_es)\n",
    "#30000\n",
    "split_parallel_oci = basic_processing(parallel_oci)\n",
    "split_parallel_es = basic_processing(parallel_es)\n",
    "#1980\n",
    "\n",
    "split_monolingual_oci[0:5], split_parallel_es[0:5]"
   ]
  },
  {
   "cell_type": "code",
   "execution_count": null,
   "id": "3affabe1",
   "metadata": {},
   "outputs": [],
   "source": []
  },
  {
   "cell_type": "code",
   "execution_count": 9,
   "id": "6975dd06",
   "metadata": {},
   "outputs": [
    {
     "name": "stdout",
     "output_type": "stream",
     "text": [
      "Before: 30000\n",
      "After: 29674\n",
      "Before: 30000\n",
      "After: 29177\n",
      "[\"²per sos trabalhs sus las reaccions d'\", \"» (46 Estats membres, contra 27 per l'\", 'A 10 km al sud, se tr ba Cap de lu c de Costat : Rebais.', \"A 1.326 m tres d'altitud, es la vila mai nauta de França.\", 'A 14 oras, lo desplegament de la polícia compren un elicoptèr e de desena de veïculs (polícia, pompièrs, secors).'] ['; 12 de abril de 1996) es una actriz de la industria del entretenimiento para adultos y una personalidad de internet.', '\"15 Y el Señor dijo a Noé: La hijas de tus hijos se han vendido; por lo que, he aquí, mi ira está encendida en contra de los hijos de los hombres, porque no quieren escuchar mi voz\".', '” (1948 - 1958) los grupos paramilitares del conservatismo inician una persecución contra los campesinos liberales y comunistas.', '; 1954), conocido simplemente como Vacca es un artista español.', '\" (1957) después de que el temperamental Freda también hubiera salido del set de esa película después de sólo unos días.']\n"
     ]
    }
   ],
   "source": [
    "# Filtering monolingual data\n",
    "# Sentences from Leipzig corpus should have their ID removed\n",
    "filter_split_mono_oci = remove_head_id(filter_sentence_3(split_monolingual_oci))\n",
    "filter_split_mono_es = remove_head_id(filter_sentence_3(split_monolingual_es))\n",
    "print(filter_split_mono_oci[0:5], filter_split_mono_es[0:5])"
   ]
  },
  {
   "cell_type": "code",
   "execution_count": 10,
   "id": "0e44dcaf",
   "metadata": {},
   "outputs": [
    {
     "name": "stdout",
     "output_type": "stream",
     "text": [
      "Dataset length: 29674.\n",
      "7418 22256\n",
      "Dataset length: 29177.\n",
      "7294 21883\n",
      "Dataset length: 1980.\n",
      "495 1485\n",
      "Dataset length: 1980.\n",
      "495 1485\n",
      "False False False False\n",
      "7418 monolingual source sentences.\n",
      "7294 monolingual target sentences.\n",
      "Whole corpus:\n",
      "7899 monolingual source sentences.\n",
      "7780 monolingual target sentences.\n",
      "src-0000000\tAquela annada ( trg-0000000\tLos cabildos abiertos atribuían a la parte representativa de la ciudad el derecho a deliberar sobre cuestiones que por su naturaleza requerían una solución extraordinaria.\n",
      "22256 monolingual source sentences.\n",
      "21883 monolingual target sentences.\n",
      "Whole corpus:\n",
      "23675 monolingual source sentences.\n",
      "23334 monolingual target sentences.\n",
      "src-0000000\tE que mei, ua cavitat que serveish tà formar espeleològs. trg-0000000\tLos ingresos medios en las Tierras APY eran significativamente más bajos que en el resto de Australia, con un ingreso medio semanal de $219/semana, comparado con los $466/semana a nivel nacional.\n"
     ]
    }
   ],
   "source": [
    "# Create the training and test synthetic corpora\n",
    "oci_es_corpora = bsd.split_shuffle_create_corpus(\n",
    "     filter_split_mono_oci, filter_split_mono_es, split_parallel_oci, split_parallel_es)"
   ]
  },
  {
   "cell_type": "code",
   "execution_count": null,
   "id": "c867b590",
   "metadata": {},
   "outputs": [],
   "source": []
  },
  {
   "cell_type": "code",
   "execution_count": 11,
   "id": "e0d97f02",
   "metadata": {},
   "outputs": [],
   "source": [
    "# Saving the files\n",
    "src = 'oci'\n",
    "trg = 'es'\n",
    "main_path = f'./data/{src}-{trg}' # CHANGE SAVE PATH\n",
    "\n",
    "bsd.save_files(src, trg, main_path, oci_es_corpora)"
   ]
  },
  {
   "cell_type": "code",
   "execution_count": 12,
   "id": "92242a56",
   "metadata": {},
   "outputs": [
    {
     "name": "stdout",
     "output_type": "stream",
     "text": [
      "  23333 UnsupPSE/data/bucc2017/oci-es/oci-es.test.es\r\n",
      "   1456 UnsupPSE/data/bucc2017/oci-es/oci-es.test.gold\r\n",
      "  23674 UnsupPSE/data/bucc2017/oci-es/oci-es.test.oci\r\n",
      "   7779 UnsupPSE/data/bucc2017/oci-es/oci-es.train.es\r\n",
      "    485 UnsupPSE/data/bucc2017/oci-es/oci-es.train.gold\r\n",
      "   7898 UnsupPSE/data/bucc2017/oci-es/oci-es.train.oci\r\n",
      "  64625 total\r\n"
     ]
    }
   ],
   "source": [
    "!wc -l ./data/bucc2017/oci-es/oci-es.*"
   ]
  },
  {
   "cell_type": "code",
   "execution_count": null,
   "id": "c3ab0786",
   "metadata": {},
   "outputs": [],
   "source": []
  }
 ],
 "metadata": {
  "kernelspec": {
   "display_name": "Python 3 (ipykernel)",
   "language": "python",
   "name": "python3"
  },
  "language_info": {
   "codemirror_mode": {
    "name": "ipython",
    "version": 3
   },
   "file_extension": ".py",
   "mimetype": "text/x-python",
   "name": "python",
   "nbconvert_exporter": "python",
   "pygments_lexer": "ipython3",
   "version": "3.12.4"
  }
 },
 "nbformat": 4,
 "nbformat_minor": 5
}
